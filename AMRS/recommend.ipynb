{
 "cells": [
  {
   "cell_type": "code",
   "execution_count": 1,
   "id": "0c80de08-7381-40db-9f54-652ca6039ad0",
   "metadata": {},
   "outputs": [
    {
     "data": {
      "text/plain": [
       "'\\nInteractive CLI: given a user-provided plot/overview, predict genres and\\nreturn the Top-10 most similar movie titles from the dataset.\\n\\nRequires artifacts produced by train_genre_model.py under ./artifacts\\nand the original imdb_movies.csv (for any extra fields you may want).\\n'"
      ]
     },
     "execution_count": 1,
     "metadata": {},
     "output_type": "execute_result"
    }
   ],
   "source": [
    "#!/usr/bin/env python3\n",
    "\"\"\"\n",
    "Interactive CLI: given a user-provided plot/overview, predict genres and\n",
    "return the Top-10 most similar movie titles from the dataset.\n",
    "\n",
    "Requires artifacts produced by train_genre_model.py under ./artifacts\n",
    "and the original imdb_movies.csv (for any extra fields you may want).\n",
    "\"\"\""
   ]
  },
  {
   "cell_type": "code",
   "execution_count": 2,
   "id": "fa550811-c7e6-4da3-8ad7-b48877e968c1",
   "metadata": {},
   "outputs": [],
   "source": [
    "import json\n",
    "import numpy as np\n",
    "from pathlib import Path\n",
    "\n",
    "# NLTK\n",
    "import nltk\n",
    "from nltk.corpus import stopwords\n",
    "from nltk.stem import WordNetLemmatizer\n",
    "from nltk.tokenize import word_tokenize\n",
    "\n",
    "import joblib\n",
    "from scipy import sparse\n",
    "from sklearn.metrics.pairwise import cosine_similarity\n",
    "import re\n",
    "import matplotlib.pyplot as plt\n",
    "\n",
    "ARTIFACT_DIR = Path(\"artifacts\")\n",
    "VEC_PATH = ARTIFACT_DIR / \"vectorizer.joblib\"\n",
    "MLB_PATH = ARTIFACT_DIR / \"mlb.joblib\"\n",
    "MODEL_PATH = ARTIFACT_DIR / \"model.joblib\"\n",
    "THR_PATH = ARTIFACT_DIR / \"thresholds.npy\"\n",
    "MAT_PATH = ARTIFACT_DIR / \"labeled_overviews.npz\"\n",
    "TITLES_PATH = ARTIFACT_DIR / \"labeled_titles.json\"\n",
    "CLASSES_PATH = ARTIFACT_DIR / \"classes.json\""
   ]
  },
  {
   "cell_type": "code",
   "execution_count": 3,
   "id": "9bb7fe6e-9569-4f69-a2af-086f98554432",
   "metadata": {},
   "outputs": [
    {
     "name": "stdout",
     "output_type": "stream",
     "text": [
      "Downloading NLTK resource: wordnet\n",
      "Downloading NLTK resource: omw-1.4\n"
     ]
    },
    {
     "name": "stderr",
     "output_type": "stream",
     "text": [
      "[nltk_data] Downloading package wordnet to\n",
      "[nltk_data]     /Users/manjunathpopuri/nltk_data...\n",
      "[nltk_data]   Package wordnet is already up-to-date!\n",
      "[nltk_data] Downloading package omw-1.4 to\n",
      "[nltk_data]     /Users/manjunathpopuri/nltk_data...\n",
      "[nltk_data]   Package omw-1.4 is already up-to-date!\n"
     ]
    }
   ],
   "source": [
    "\n",
    "def ensure_nltk_data():\n",
    "    required = {\n",
    "        'punkt': 'tokenizers/punkt',\n",
    "        'stopwords': 'corpora/stopwords',\n",
    "        'wordnet': 'corpora/wordnet',\n",
    "        'omw-1.4': 'corpora/omw-1.4',\n",
    "    }\n",
    "    for pkg, res in required.items():\n",
    "        try:\n",
    "            nltk.data.find(res)\n",
    "        except LookupError:\n",
    "            print(f\"Downloading NLTK resource: {pkg}\")\n",
    "            nltk.download(pkg, quiet=False)\n",
    "\n",
    "ensure_nltk_data()\n",
    "STOP_WORDS = set(stopwords.words(\"english\"))\n",
    "LEMM = WordNetLemmatizer()"
   ]
  },
  {
   "cell_type": "code",
   "execution_count": 4,
   "id": "0a31976a-42bc-45ac-b07e-e4ec3b91c9a2",
   "metadata": {},
   "outputs": [],
   "source": [
    "\n",
    "def preprocess_text(text: str) -> str:\n",
    "    x = re.sub(r\"[^\\w\\s]\", \" \", text or \"\")\n",
    "    x = x.lower()\n",
    "    words = word_tokenize(x)\n",
    "    words = [w for w in words if w not in STOP_WORDS and w.isalpha()]\n",
    "    words = [LEMM.lemmatize(w) for w in words]\n",
    "    return \" \".join(words)\n"
   ]
  },
  {
   "cell_type": "code",
   "execution_count": 5,
   "id": "797bfc73-2cf4-40f9-8bde-7eeedc8195f7",
   "metadata": {},
   "outputs": [],
   "source": [
    "def load_artifacts():\n",
    "    vectorizer = joblib.load(VEC_PATH)\n",
    "    mlb = joblib.load(MLB_PATH)\n",
    "    model = joblib.load(MODEL_PATH)\n",
    "    thresholds = np.load(THR_PATH)\n",
    "    X_labeled = sparse.load_npz(MAT_PATH)\n",
    "    with open(TITLES_PATH, \"r\", encoding=\"utf-8\") as f:\n",
    "        titles = json.load(f)\n",
    "    with open(CLASSES_PATH, \"r\", encoding=\"utf-8\") as f:\n",
    "        classes = json.load(f)\n",
    "    return vectorizer, mlb, model, thresholds, X_labeled, titles, classes"
   ]
  },
  {
   "cell_type": "code",
   "execution_count": 6,
   "id": "aa703719-088c-4281-96c6-e6ca68e5606a",
   "metadata": {},
   "outputs": [],
   "source": [
    "\n",
    "def predict_and_recommend(user_text: str, top_k: int = 10):\n",
    "    vectorizer, mlb, model, thresholds, X_labeled, titles, classes = load_artifacts()\n",
    "    cleaned = preprocess_text(user_text)\n",
    "    Xq = vectorizer.transform([cleaned])\n",
    "\n",
    "    # Genre prediction\n",
    "    proba = model.predict_proba(Xq)[0]  # shape: (n_labels,)\n",
    "    y_pred = (proba >= thresholds).astype(int)\n",
    "    predicted_genres = [cls for cls, bit in zip(classes, y_pred) if bit == 1]\n",
    "\n",
    "    # Similarity search (cosine sim in TF-IDF space)\n",
    "    sims = cosine_similarity(Xq, X_labeled).ravel()\n",
    "    top_idx = np.argsort(-sims)[:top_k]\n",
    "    top_titles = [(titles[i], float(sims[i])) for i in top_idx]\n",
    "\n",
    "    return predicted_genres, top_titles"
   ]
  },
  {
   "cell_type": "code",
   "execution_count": 7,
   "id": "97e347d7-e7c5-43cd-96d7-0578e8d9e16c",
   "metadata": {},
   "outputs": [],
   "source": [
    "def plot_ranked_recommendations(pairs, title=\"Top-10 Similar Movies\", save_path=None):\n",
    "    names = [p[0] for p in pairs]\n",
    "    scores = [p[1] for p in pairs]\n",
    "    # rank 1 at top: reverse\n",
    "    names = names[::-1]\n",
    "    scores = scores[::-1]\n",
    "\n",
    "    plt.figure(figsize=(10, 6))\n",
    "    plt.barh(range(len(scores)), scores)\n",
    "    plt.yticks(range(len(names)), names)\n",
    "    plt.xlabel(\"Cosine similarity\")\n",
    "    plt.title(title)\n",
    "    plt.tight_layout()\n",
    "    if save_path:\n",
    "        plt.savefig(save_path, dpi=150, bbox_inches=\"tight\")\n",
    "    plt.show()"
   ]
  },
  {
   "cell_type": "code",
   "execution_count": null,
   "id": "de427510-d3de-4de9-ba63-5b5db545517d",
   "metadata": {},
   "outputs": [
    {
     "name": "stdout",
     "output_type": "stream",
     "text": [
      "Movie Recommender (type 'quit' or 'exit' to end).\n"
     ]
    }
   ],
   "source": [
    "\n",
    "\n",
    "def main():\n",
    "    print(\"Movie Recommender (type 'quit' or 'exit' to end).\")\n",
    "    while True:\n",
    "        try:\n",
    "            q = input(\"\\nEnter a brief plot/overview: \").strip()\n",
    "        except EOFError:\n",
    "            # Handles Ctrl+D cleanly on *nix terminals\n",
    "            print(\"\\nGoodbye!\")\n",
    "            break\n",
    "\n",
    "        if q.lower() in {\"quit\", \"exit\", \"q\"}:\n",
    "            print(\"Goodbye!\")\n",
    "            break\n",
    "        if not q:\n",
    "            print(\"Please type some text.\")\n",
    "            continue\n",
    "\n",
    "        genres, recs = predict_and_recommend(q, top_k=10)\n",
    "        if genres:\n",
    "            print(\"Predicted genres:\", \", \".join(genres))\n",
    "        else:\n",
    "            print(\"Predicted genres: (none)\")\n",
    "\n",
    "        print(\"\\nRanked recommendations:\")\n",
    "        for i, (t, s) in enumerate(recs, 1):\n",
    "            print(f\"{i:2d}. {t}  | similarity={s:.3f}\")\n",
    "\n",
    "        plot_ranked_recommendations(recs, title=\"Top-10 Similar Movies\")\n",
    "\n",
    "if __name__ == \"__main__\":\n",
    "    main()"
   ]
  },
  {
   "cell_type": "code",
   "execution_count": null,
   "id": "79bd0d7e-6363-4fe8-8218-281eca0b4bc4",
   "metadata": {},
   "outputs": [],
   "source": []
  }
 ],
 "metadata": {
  "kernelspec": {
   "display_name": "Python 3 (ipykernel)",
   "language": "python",
   "name": "python3"
  },
  "language_info": {
   "codemirror_mode": {
    "name": "ipython",
    "version": 3
   },
   "file_extension": ".py",
   "mimetype": "text/x-python",
   "name": "python",
   "nbconvert_exporter": "python",
   "pygments_lexer": "ipython3",
   "version": "3.13.5"
  }
 },
 "nbformat": 4,
 "nbformat_minor": 5
}
